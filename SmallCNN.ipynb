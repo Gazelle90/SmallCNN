{
  "nbformat": 4,
  "nbformat_minor": 0,
  "metadata": {
    "colab": {
      "provenance": [],
      "gpuType": "T4",
      "authorship_tag": "ABX9TyOvLmH6rfZ40j9O44XyZEr6",
      "include_colab_link": true
    },
    "kernelspec": {
      "name": "python3",
      "display_name": "Python 3"
    },
    "language_info": {
      "name": "python"
    },
    "accelerator": "GPU"
  },
  "cells": [
    {
      "cell_type": "markdown",
      "metadata": {
        "id": "view-in-github",
        "colab_type": "text"
      },
      "source": [
        "<a href=\"https://colab.research.google.com/github/Gazelle90/SmallCNN/blob/main/SmallCNN.ipynb\" target=\"_parent\"><img src=\"https://colab.research.google.com/assets/colab-badge.svg\" alt=\"Open In Colab\"/></a>"
      ]
    },
    {
      "cell_type": "code",
      "source": [
        "#libraries used\n",
        "from torchvision import transforms\n",
        "import numpy as np\n",
        "import torch\n",
        "import torch.nn as nn\n",
        "import torch.optim as optim\n",
        "from torch.utils.data import DataLoader, TensorDataset\n",
        "import matplotlib.pyplot as plt\n",
        "import pandas as pd\n",
        "from sklearn.model_selection import train_test_split\n",
        "from torchvision import models\n",
        "import math\n",
        "import os\n",
        "from sklearn.metrics import f1_score\n"
      ],
      "metadata": {
        "id": "OKAMGCOGjUJw"
      },
      "execution_count": 4,
      "outputs": []
    },
    {
      "cell_type": "markdown",
      "source": [
        "# The model"
      ],
      "metadata": {
        "id": "GC2mMRVMjaLz"
      }
    },
    {
      "cell_type": "code",
      "source": [
        "class SmallCNN(nn.Module):\n",
        "    def __init__(self, num_classes=10):\n",
        "        super().__init__()\n",
        "        self.features = nn.Sequential(\n",
        "            nn.Conv2d(3, 32, 3, padding=1), nn.ReLU(), nn.MaxPool2d(2),\n",
        "            nn.Conv2d(32, 64, 3, padding=1), nn.ReLU(), nn.MaxPool2d(2),\n",
        "            nn.Conv2d(64, 128, 3, padding=1), nn.ReLU(), nn.MaxPool2d(2)\n",
        "        )\n",
        "        self.classifier = nn.Sequential(\n",
        "            nn.Flatten(),\n",
        "            nn.Linear(128 * 4 * 4, 256), nn.ReLU(), nn.Dropout(0.5),\n",
        "            nn.Linear(256, num_classes)\n",
        "        )\n",
        "    def forward(self, x):\n",
        "        x = self.features(x)\n",
        "        return self.classifier(x)"
      ],
      "metadata": {
        "id": "oYgfj0EksC2Y"
      },
      "execution_count": 5,
      "outputs": []
    },
    {
      "cell_type": "markdown",
      "source": [
        "# Step one:\n",
        "loading data and preperation:"
      ],
      "metadata": {
        "id": "IgZ-n-UKsDIn"
      }
    },
    {
      "cell_type": "code",
      "execution_count": 6,
      "metadata": {
        "id": "NTg-MrYPq_UH"
      },
      "outputs": [],
      "source": [
        "import numpy as np\n",
        "import torch\n",
        "from torch.utils.data import Dataset, DataLoader\n",
        "from torchvision import transforms\n",
        "from sklearn.model_selection import train_test_split\n",
        "\n",
        "\n",
        "X = np.load('train_data.npy')      # shape (N, 3072) uint8\n",
        "y = np.load('train_labels.npy')    # shape (N,)\n",
        "X_test = np.load('test_data.npy')  # shape (N, 3072) uint8\n",
        "\n",
        "\n",
        "X_tr, X_val, y_tr, y_val = train_test_split(\n",
        "    X, y, test_size=0.2, stratify=y, random_state=42)\n",
        "\n",
        "#Convertion from flat uint8 arrays → images → tensors.\n",
        "CIFAR10_MEAN = (0.4914, 0.4822, 0.4465)\n",
        "CIFAR10_STD  = (0.2470, 0.2435, 0.2616)\n",
        "\n",
        "transform_train = transforms.Compose([\n",
        "    transforms.ToPILImage(),                  # expects HWC uint8\n",
        "    transforms.RandomCrop(32, padding=4),\n",
        "    transforms.RandomHorizontalFlip(),\n",
        "    transforms.ColorJitter(0.2, 0.2, 0.2, 0.1),  # optional but helpful\n",
        "    transforms.ToTensor(),                    # -> float [0,1], CHW\n",
        "    transforms.Normalize(CIFAR10_MEAN, CIFAR10_STD),\n",
        "    transforms.RandomErasing(p=0.25)          # optional regularization\n",
        "])\n",
        "\n",
        "transform_eval = transforms.Compose([\n",
        "    transforms.ToPILImage(),\n",
        "    transforms.ToTensor(),\n",
        "    transforms.Normalize(CIFAR10_MEAN, CIFAR10_STD),\n",
        "])\n",
        "\n",
        "\n",
        "class FlatCIFARDataset(Dataset):\n",
        "    def __init__(self, X_flat, y=None, transform=None):\n",
        "        self.X = X_flat\n",
        "        self.y = y\n",
        "        self.transform = transform\n",
        "\n",
        "    def __len__(self): return len(self.X)\n",
        "\n",
        "    def _flat_to_hwc(self, x):  # (3072,) -> (32,32,3)\n",
        "        # channels-last order like CIFAR: [R(1024), G(1024), B(1024)]\n",
        "        img = x.reshape(3, 32, 32).transpose(1, 2, 0)  # CHW -> HWC\n",
        "        return img.astype(np.uint8)\n",
        "\n",
        "    def __getitem__(self, idx):\n",
        "        img = self._flat_to_hwc(self.X[idx])\n",
        "        img = self.transform(img) if self.transform else img\n",
        "        if self.y is None:\n",
        "            return img\n",
        "        return img, int(self.y[idx])\n",
        "\n",
        "trainset = FlatCIFARDataset(X_tr, y_tr, transform=transform_train)\n",
        "valset   = FlatCIFARDataset(X_val, y_val, transform=transform_eval)\n",
        "testset  = FlatCIFARDataset(X_test, None, transform=transform_eval)\n",
        "\n",
        "trainloader = DataLoader(trainset, batch_size=64, shuffle=True,  num_workers=2, pin_memory=True)\n",
        "valloader   = DataLoader(valset,   batch_size=64, shuffle=False, num_workers=2, pin_memory=True)\n",
        "testloader  = DataLoader(testset,  batch_size=64, shuffle=False, num_workers=2, pin_memory=True)\n"
      ]
    },
    {
      "cell_type": "markdown",
      "source": [
        "# Step two:\n",
        "The Model:"
      ],
      "metadata": {
        "id": "RKev2pwGs-iV"
      }
    },
    {
      "cell_type": "code",
      "source": [
        "device = torch.device(\"cuda\" if torch.cuda.is_available() else \"cpu\")\n",
        "net = SmallCNN(num_classes=10).to(device)"
      ],
      "metadata": {
        "id": "eNNTG3T7tQPd"
      },
      "execution_count": 7,
      "outputs": []
    },
    {
      "cell_type": "markdown",
      "source": [
        "#  Step Three:\n",
        " Loss function, Optimizer and Scheduler"
      ],
      "metadata": {
        "id": "rX8SAmSDtZXw"
      }
    },
    {
      "cell_type": "code",
      "source": [
        "criterion = nn.CrossEntropyLoss().to(device)\n",
        "optimizer = torch.optim.AdamW(net.parameters(), lr=3e-4, weight_decay=5e-4)\n",
        "scheduler = torch.optim.lr_scheduler.ReduceLROnPlateau(\n",
        "    optimizer, mode='min', factor=0.5, patience=2\n",
        ")\n"
      ],
      "metadata": {
        "id": "zCwjhhditfam"
      },
      "execution_count": 8,
      "outputs": []
    },
    {
      "cell_type": "markdown",
      "source": [
        "# Step 4:\n",
        "The training loop , the early stopping technique was used in order to prevent overfitting"
      ],
      "metadata": {
        "id": "029n-Jzbtiv8"
      }
    },
    {
      "cell_type": "code",
      "source": [
        "num_epochs = 75\n",
        "train_losses, val_losses = [], []\n",
        "\n",
        "#Early stopping's configuration\n",
        "patience =10\n",
        "min_delta = 0.0\n",
        "checkpoint_path = \"best_model.pth\"\n",
        "\n",
        "best_val = math.inf\n",
        "epochs_no_improve = 0\n",
        "\n",
        "for epoch in range(num_epochs):\n",
        "\n",
        "    net.train()\n",
        "    running_loss = 0.0\n",
        "    for inputs, labels in trainloader:\n",
        "        inputs, labels = inputs.to(device), labels.to(device)\n",
        "\n",
        "        optimizer.zero_grad()\n",
        "        outputs = net(inputs)\n",
        "        loss = criterion(outputs, labels)\n",
        "        loss.backward()\n",
        "        optimizer.step()\n",
        "\n",
        "        running_loss += loss.item()\n",
        "\n",
        "    train_loss = running_loss / len(trainloader)\n",
        "    train_losses.append(train_loss)\n",
        "\n",
        "\n",
        "    net.eval()\n",
        "    val_loss = 0.0\n",
        "    with torch.no_grad():\n",
        "        for inputs, labels in valloader:\n",
        "            inputs, labels = inputs.to(device), labels.to(device)\n",
        "            outputs = net(inputs)\n",
        "            loss = criterion(outputs, labels)\n",
        "            val_loss += loss.item()\n",
        "\n",
        "    val_loss /= len(testloader)\n",
        "    val_losses.append(val_loss)\n",
        "\n",
        "    print(f'Epoch {epoch+1}/{num_epochs}, '\n",
        "          f'Train Loss: {train_loss:.4f}, Val Loss: {val_loss:.4f}')\n",
        "\n",
        "\n",
        "    if val_loss < (best_val - min_delta):\n",
        "        best_val = val_loss\n",
        "        epochs_no_improve = 0\n",
        "\n",
        "        torch.save({\n",
        "            'model_state_dict': net.state_dict(),\n",
        "            'optimizer_state_dict': optimizer.state_dict(),\n",
        "            'epoch': epoch,\n",
        "            'best_val': best_val\n",
        "        }, checkpoint_path)\n",
        "    else:\n",
        "        epochs_no_improve += 1\n",
        "        if epochs_no_improve >= patience:\n",
        "            print(f\"Early stopping at epoch {epoch+1}. \"\n",
        "                  f\"Best Val Loss: {best_val:.4f}\")\n",
        "\n",
        "            if os.path.exists(checkpoint_path):\n",
        "                ckpt = torch.load(checkpoint_path, map_location=device)\n",
        "                net.load_state_dict(ckpt['model_state_dict'])\n",
        "                optimizer.load_state_dict(ckpt['optimizer_state_dict'])\n",
        "            break"
      ],
      "metadata": {
        "id": "-5rNH8Hetq9n",
        "colab": {
          "base_uri": "https://localhost:8080/"
        },
        "outputId": "4440f931-36b8-4c2b-eaee-c3857fa47551"
      },
      "execution_count": 9,
      "outputs": [
        {
          "output_type": "stream",
          "name": "stdout",
          "text": [
            "Epoch 1/75, Train Loss: 2.1080, Val Loss: 0.3967\n",
            "Epoch 2/75, Train Loss: 1.9015, Val Loss: 0.3493\n",
            "Epoch 3/75, Train Loss: 1.7638, Val Loss: 0.3321\n",
            "Epoch 4/75, Train Loss: 1.7048, Val Loss: 0.3199\n",
            "Epoch 5/75, Train Loss: 1.6531, Val Loss: 0.3076\n",
            "Epoch 6/75, Train Loss: 1.6190, Val Loss: 0.3022\n",
            "Epoch 7/75, Train Loss: 1.5891, Val Loss: 0.2981\n",
            "Epoch 8/75, Train Loss: 1.5591, Val Loss: 0.2936\n",
            "Epoch 9/75, Train Loss: 1.5347, Val Loss: 0.2834\n",
            "Epoch 10/75, Train Loss: 1.5162, Val Loss: 0.2780\n",
            "Epoch 11/75, Train Loss: 1.4796, Val Loss: 0.2852\n",
            "Epoch 12/75, Train Loss: 1.4552, Val Loss: 0.2702\n",
            "Epoch 13/75, Train Loss: 1.4446, Val Loss: 0.2615\n",
            "Epoch 14/75, Train Loss: 1.4143, Val Loss: 0.2639\n",
            "Epoch 15/75, Train Loss: 1.4031, Val Loss: 0.2599\n",
            "Epoch 16/75, Train Loss: 1.3804, Val Loss: 0.2501\n",
            "Epoch 17/75, Train Loss: 1.3592, Val Loss: 0.2466\n",
            "Epoch 18/75, Train Loss: 1.3300, Val Loss: 0.2434\n",
            "Epoch 19/75, Train Loss: 1.3326, Val Loss: 0.2417\n",
            "Epoch 20/75, Train Loss: 1.2938, Val Loss: 0.2322\n",
            "Epoch 21/75, Train Loss: 1.2706, Val Loss: 0.2299\n",
            "Epoch 22/75, Train Loss: 1.2749, Val Loss: 0.2293\n",
            "Epoch 23/75, Train Loss: 1.2466, Val Loss: 0.2260\n",
            "Epoch 24/75, Train Loss: 1.2244, Val Loss: 0.2226\n",
            "Epoch 25/75, Train Loss: 1.2419, Val Loss: 0.2245\n",
            "Epoch 26/75, Train Loss: 1.2115, Val Loss: 0.2179\n",
            "Epoch 27/75, Train Loss: 1.1987, Val Loss: 0.2199\n",
            "Epoch 28/75, Train Loss: 1.1927, Val Loss: 0.2123\n",
            "Epoch 29/75, Train Loss: 1.1686, Val Loss: 0.2137\n",
            "Epoch 30/75, Train Loss: 1.1680, Val Loss: 0.2078\n",
            "Epoch 31/75, Train Loss: 1.1438, Val Loss: 0.2070\n",
            "Epoch 32/75, Train Loss: 1.1366, Val Loss: 0.2028\n",
            "Epoch 33/75, Train Loss: 1.1394, Val Loss: 0.2098\n",
            "Epoch 34/75, Train Loss: 1.1082, Val Loss: 0.2022\n",
            "Epoch 35/75, Train Loss: 1.0903, Val Loss: 0.2004\n",
            "Epoch 36/75, Train Loss: 1.0738, Val Loss: 0.2044\n",
            "Epoch 37/75, Train Loss: 1.0805, Val Loss: 0.1970\n",
            "Epoch 38/75, Train Loss: 1.0733, Val Loss: 0.1951\n",
            "Epoch 39/75, Train Loss: 1.0477, Val Loss: 0.1923\n",
            "Epoch 40/75, Train Loss: 1.0519, Val Loss: 0.1974\n",
            "Epoch 41/75, Train Loss: 1.0351, Val Loss: 0.1922\n",
            "Epoch 42/75, Train Loss: 1.0321, Val Loss: 0.1903\n",
            "Epoch 43/75, Train Loss: 1.0229, Val Loss: 0.1951\n",
            "Epoch 44/75, Train Loss: 0.9997, Val Loss: 0.1899\n",
            "Epoch 45/75, Train Loss: 0.9831, Val Loss: 0.1914\n",
            "Epoch 46/75, Train Loss: 0.9824, Val Loss: 0.1878\n",
            "Epoch 47/75, Train Loss: 0.9849, Val Loss: 0.1860\n",
            "Epoch 48/75, Train Loss: 0.9692, Val Loss: 0.1873\n",
            "Epoch 49/75, Train Loss: 0.9512, Val Loss: 0.1819\n",
            "Epoch 50/75, Train Loss: 0.9441, Val Loss: 0.1813\n",
            "Epoch 51/75, Train Loss: 0.9497, Val Loss: 0.1782\n",
            "Epoch 52/75, Train Loss: 0.9287, Val Loss: 0.1802\n",
            "Epoch 53/75, Train Loss: 0.9412, Val Loss: 0.1805\n",
            "Epoch 54/75, Train Loss: 0.9404, Val Loss: 0.1835\n",
            "Epoch 55/75, Train Loss: 0.9155, Val Loss: 0.1732\n",
            "Epoch 56/75, Train Loss: 0.9131, Val Loss: 0.1812\n",
            "Epoch 57/75, Train Loss: 0.9020, Val Loss: 0.1739\n",
            "Epoch 58/75, Train Loss: 0.8897, Val Loss: 0.1780\n",
            "Epoch 59/75, Train Loss: 0.8820, Val Loss: 0.1750\n",
            "Epoch 60/75, Train Loss: 0.8817, Val Loss: 0.1704\n",
            "Epoch 61/75, Train Loss: 0.8699, Val Loss: 0.1764\n",
            "Epoch 62/75, Train Loss: 0.8575, Val Loss: 0.1733\n",
            "Epoch 63/75, Train Loss: 0.8638, Val Loss: 0.1699\n",
            "Epoch 64/75, Train Loss: 0.8595, Val Loss: 0.1689\n",
            "Epoch 65/75, Train Loss: 0.8500, Val Loss: 0.1738\n",
            "Epoch 66/75, Train Loss: 0.8470, Val Loss: 0.1739\n",
            "Epoch 67/75, Train Loss: 0.8459, Val Loss: 0.1708\n",
            "Epoch 68/75, Train Loss: 0.8344, Val Loss: 0.1651\n",
            "Epoch 69/75, Train Loss: 0.8273, Val Loss: 0.1709\n",
            "Epoch 70/75, Train Loss: 0.8165, Val Loss: 0.1648\n",
            "Epoch 71/75, Train Loss: 0.8049, Val Loss: 0.1653\n",
            "Epoch 72/75, Train Loss: 0.8139, Val Loss: 0.1675\n",
            "Epoch 73/75, Train Loss: 0.8115, Val Loss: 0.1696\n",
            "Epoch 74/75, Train Loss: 0.8105, Val Loss: 0.1665\n",
            "Epoch 75/75, Train Loss: 0.7986, Val Loss: 0.1645\n"
          ]
        }
      ]
    },
    {
      "cell_type": "markdown",
      "source": [
        "# Step 5:\n",
        "Prediction and saving the results"
      ],
      "metadata": {
        "id": "JheRtTavtxlL"
      }
    },
    {
      "cell_type": "code",
      "source": [
        "from sklearn.metrics import f1_score, accuracy_score\n",
        "\n",
        "net.eval()\n",
        "y_true, y_pred = [], []\n",
        "\n",
        "with torch.no_grad():\n",
        "    for inputs, labels in valloader:\n",
        "        inputs, labels = inputs.to(device), labels.to(device)\n",
        "        outputs = net(inputs)\n",
        "        preds = outputs.argmax(dim=1)\n",
        "\n",
        "        y_pred.extend(preds.cpu().numpy())\n",
        "        y_true.extend(labels.cpu().numpy())\n",
        "\n",
        "print(\"Val accuracy:\", accuracy_score(y_true, y_pred))\n",
        "print(\"Val macro F1:\", f1_score(y_true, y_pred, average='macro'))\n",
        "print(\"Val weighted F1:\", f1_score(y_true, y_pred, average='weighted'))\n"
      ],
      "metadata": {
        "id": "yIqdhWg7t7xQ",
        "colab": {
          "base_uri": "https://localhost:8080/"
        },
        "outputId": "5ef008b6-d161-44cb-9b07-ff00dbd0a5b5"
      },
      "execution_count": 10,
      "outputs": [
        {
          "output_type": "stream",
          "name": "stdout",
          "text": [
            "Val accuracy: 0.7195\n",
            "Val macro F1: 0.7183699668283194\n",
            "Val weighted F1: 0.7183549237809266\n"
          ]
        }
      ]
    },
    {
      "cell_type": "markdown",
      "source": [
        "Visualizations and plots of the forecasts"
      ],
      "metadata": {
        "id": "cvnUUAOOuFoZ"
      }
    },
    {
      "cell_type": "code",
      "source": [
        "fig, ax = plt.subplots()\n",
        "ax.plot(train_losses, label='Training Loss')\n",
        "ax.plot(val_losses, label='Validation Loss')\n",
        "ax.set_xlabel('Epoch')\n",
        "ax.set_ylabel('Loss')\n",
        "ax.legend()\n",
        "plt.show()"
      ],
      "metadata": {
        "id": "2-8eiG70uJs5",
        "colab": {
          "base_uri": "https://localhost:8080/",
          "height": 449
        },
        "outputId": "24be10bd-dc2d-45bb-a82d-a9c15ff87071"
      },
      "execution_count": 11,
      "outputs": [
        {
          "output_type": "display_data",
          "data": {
            "text/plain": [
              "<Figure size 640x480 with 1 Axes>"
            ],
            "image/png": "[encoded data removed]"
          },
          "metadata": {}
        }
      ]
    }
  ]
}